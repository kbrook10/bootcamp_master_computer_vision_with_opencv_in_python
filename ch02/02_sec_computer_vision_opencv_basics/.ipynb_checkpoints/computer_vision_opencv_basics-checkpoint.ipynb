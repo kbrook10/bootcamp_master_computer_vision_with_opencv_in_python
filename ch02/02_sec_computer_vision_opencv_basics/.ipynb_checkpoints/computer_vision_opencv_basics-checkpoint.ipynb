{
 "cells": [
  {
   "cell_type": "markdown",
   "metadata": {},
   "source": [
    "### Getting Started with OpenCV"
   ]
  },
  {
   "cell_type": "code",
   "execution_count": 2,
   "metadata": {},
   "outputs": [],
   "source": [
    "# qt5 is backend for open cv\n",
    "# %gui qt5"
   ]
  },
  {
   "cell_type": "code",
   "execution_count": 3,
   "metadata": {
    "collapsed": true
   },
   "outputs": [],
   "source": [
    "# Import necessary libraries for vision exercise\n",
    "\n",
    "import os\n",
    "import cv2\n",
    "import numpy as np"
   ]
  },
  {
   "cell_type": "code",
   "execution_count": 4,
   "metadata": {},
   "outputs": [
    {
     "name": "stdout",
     "output_type": "stream",
     "text": [
      "/Users/blackice02/Documents/self_development/udemy/master_computer_vision_with_opencv_in_python/02_sec_computer_vision_opencv_basics\n"
     ]
    }
   ],
   "source": [
    "# Current working directory\n",
    "\n",
    "print(os.getcwd())"
   ]
  },
  {
   "cell_type": "code",
   "execution_count": 5,
   "metadata": {
    "collapsed": true
   },
   "outputs": [],
   "source": [
    "## Step 1:  Load Image into notebook\n",
    "\n",
    "# use .imread() method to read in image\n",
    "\n",
    "input = cv2.imread('../course_materials/Master OpenCV/images/input.jpg')\n"
   ]
  },
  {
   "cell_type": "code",
   "execution_count": null,
   "metadata": {
    "collapsed": true
   },
   "outputs": [],
   "source": [
    "## Step 2: Display with image with the .imshow() method\n",
    "\n",
    "# use .imshow() with parameters for image title and image variable\n",
    "\n",
    "cv2.imshow('Hello World', input)\n",
    "\n",
    "## Step 3: Specify how long to display image with .waitKey() method\n",
    "\n",
    "cv2.waitKey()\n",
    "#cv2.waitKey(25)\n",
    "\n",
    "## Step 4: Close all Open Windows\n",
    "\n",
    "# This prevents program from hanging up\n",
    "\n",
    "cv2.destroyAllWindows()"
   ]
  },
  {
   "cell_type": "markdown",
   "metadata": {},
   "source": [
    "#### Investigate the shape of the Image"
   ]
  },
  {
   "cell_type": "code",
   "execution_count": 6,
   "metadata": {},
   "outputs": [
    {
     "name": "stdout",
     "output_type": "stream",
     "text": [
      "(830, 1245, 3)\n"
     ]
    }
   ],
   "source": [
    "# Review the shape of the image\n",
    "\n",
    "print(input.shape)"
   ]
  },
  {
   "cell_type": "code",
   "execution_count": 8,
   "metadata": {},
   "outputs": [
    {
     "name": "stdout",
     "output_type": "stream",
     "text": [
      "Height of Image: 830 pixels\n",
      "Width of Image: 1245 pixels\n"
     ]
    }
   ],
   "source": [
    "# Display the dimensions of an image\n",
    "\n",
    "print('Height of Image: {} pixels'.format(int(input.shape[0])))\n",
    "print('Width of Image: {} pixels'.format(int(input.shape[1])))\n"
   ]
  },
  {
   "cell_type": "code",
   "execution_count": 9,
   "metadata": {},
   "outputs": [
    {
     "data": {
      "text/plain": [
       "True"
      ]
     },
     "execution_count": 9,
     "metadata": {},
     "output_type": "execute_result"
    }
   ],
   "source": [
    "# Save images that are edited in OpenCV\n",
    "\n",
    "cv2.imwrite('output.jpg', input)\n",
    "cv2.imwrite('output.png', input)"
   ]
  },
  {
   "cell_type": "code",
   "execution_count": null,
   "metadata": {
    "collapsed": true
   },
   "outputs": [],
   "source": [
    "### Reading an Image with .imread()\n",
    "\n",
    "# Use the function cv2.imread() to read an image\n",
    "# Parameters: Color, Grayscale, Unchanged -> 1, 0, -1 respectively\n",
    "\n",
    "img = cv2.imread('analytics.png', 0)\n",
    "cv2.startWindowThread()\n",
    "cv2.namedWindow('test_image')"
   ]
  },
  {
   "cell_type": "code",
   "execution_count": null,
   "metadata": {
    "collapsed": true
   },
   "outputs": [],
   "source": [
    "### Display an image with .imshow()\n",
    "\n",
    "# Arguments: \n",
    "# .imshow() -> First argument is a window name which is a string. second argument is our image.\n",
    "\n",
    "# .waitKey() -> a keyboard binding function. Its argument is the time in milliseconds. \n",
    "# The function waits for specified milliseconds for any keyboard event. \n",
    "# If you press any key in that time, the program continues.\n",
    "\n",
    "# .destroyAllWindows() -> destroys all the windows we created\n",
    "\n",
    "cv2.imshow('test_image',img)\n",
    "cv2.waitKey(25)\n",
    "# cv2.destroyAllWindows() -> removed this b/c image would freeze and not delete"
   ]
  },
  {
   "cell_type": "code",
   "execution_count": null,
   "metadata": {
    "collapsed": true
   },
   "outputs": [],
   "source": [
    "### Write an image with .imwrite()\n",
    "\n",
    "# First argument is the file name, second argument is the image you want to save.\n",
    "\n",
    "cv2.imwrite('test_image_write.png', img)"
   ]
  },
  {
   "cell_type": "code",
   "execution_count": null,
   "metadata": {
    "collapsed": true
   },
   "outputs": [],
   "source": [
    "### Full Program\n",
    "img = cv2.imread('analytics.png',0)\n",
    "cv2.imshow('image',img)\n",
    "k = cv2.waitKey(25) & 0xFF\n",
    "if k == 27: # wait for ESC key to exit\n",
    "    cv2.destroyAllWindows()\n",
    "elif k == ord('s'): # wait for 's' key to save and exit\n",
    "    cv2.imwrite('analytics_test.png',img)\n",
    "    cv2.destroyAllWindows()"
   ]
  },
  {
   "cell_type": "code",
   "execution_count": null,
   "metadata": {
    "collapsed": true
   },
   "outputs": [],
   "source": []
  },
  {
   "cell_type": "code",
   "execution_count": null,
   "metadata": {
    "collapsed": true
   },
   "outputs": [],
   "source": []
  }
 ],
 "metadata": {
  "kernelspec": {
   "display_name": "Python 3",
   "language": "python",
   "name": "python3"
  },
  "language_info": {
   "codemirror_mode": {
    "name": "ipython",
    "version": 3
   },
   "file_extension": ".py",
   "mimetype": "text/x-python",
   "name": "python",
   "nbconvert_exporter": "python",
   "pygments_lexer": "ipython3",
   "version": "3.6.6"
  }
 },
 "nbformat": 4,
 "nbformat_minor": 2
}
