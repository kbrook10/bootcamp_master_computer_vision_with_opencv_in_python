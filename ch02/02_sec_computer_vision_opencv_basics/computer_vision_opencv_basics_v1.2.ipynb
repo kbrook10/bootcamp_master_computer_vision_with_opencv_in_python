{
 "cells": [
  {
   "cell_type": "code",
   "execution_count": 1,
   "metadata": {
    "collapsed": true
   },
   "outputs": [],
   "source": [
    "# Import necessary libraries for vision exercise\n",
    "\n",
    "import os\n",
    "import cv2\n",
    "import numpy as np"
   ]
  },
  {
   "cell_type": "code",
   "execution_count": 2,
   "metadata": {},
   "outputs": [
    {
     "name": "stdout",
     "output_type": "stream",
     "text": [
      "/Users/blackice02/Documents/self_development/udemy/master_computer_vision_with_opencv_in_python/02_sec_computer_vision_opencv_basics\n"
     ]
    }
   ],
   "source": [
    "# Current working directory\n",
    "\n",
    "print(os.getcwd())"
   ]
  },
  {
   "cell_type": "code",
   "execution_count": 3,
   "metadata": {
    "collapsed": true
   },
   "outputs": [],
   "source": [
    "## Step 1:  Load Image into notebook\n",
    "\n",
    "# use .imread() method to read in image\n",
    "\n",
    "input = cv2.imread('../course_materials/Master OpenCV/images/input.jpg')\n"
   ]
  },
  {
   "cell_type": "code",
   "execution_count": null,
   "metadata": {
    "collapsed": true
   },
   "outputs": [],
   "source": [
    "## Step 2: Display with image with the .imshow() method\n",
    "\n",
    "# use .imshow() with parameters for image title and image variable\n",
    "\n",
    "cv2.imshow('Hello World', input)\n",
    "\n",
    "## Step 3: Specify how long to display image with .waitKey() method\n",
    "\n",
    "cv2.waitKey(25)\n",
    "#cv2.waitKey(25)\n",
    "\n",
    "## Step 4: Close all Open Windows\n",
    "\n",
    "# This prevents program from hanging up\n",
    "\n",
    "cv2.destroyAllWindows()"
   ]
  },
  {
   "cell_type": "code",
   "execution_count": null,
   "metadata": {
    "collapsed": true
   },
   "outputs": [],
   "source": [
    "# Review the shape of the image\n",
    "\n",
    "print(input.shape)"
   ]
  },
  {
   "cell_type": "code",
   "execution_count": null,
   "metadata": {
    "collapsed": true
   },
   "outputs": [],
   "source": []
  }
 ],
 "metadata": {
  "kernelspec": {
   "display_name": "Python 2",
   "language": "python",
   "name": "python2"
  },
  "language_info": {
   "codemirror_mode": {
    "name": "ipython",
    "version": 2
   },
   "file_extension": ".py",
   "mimetype": "text/x-python",
   "name": "python",
   "nbconvert_exporter": "python",
   "pygments_lexer": "ipython2",
   "version": "2.7.13"
  }
 },
 "nbformat": 4,
 "nbformat_minor": 2
}
